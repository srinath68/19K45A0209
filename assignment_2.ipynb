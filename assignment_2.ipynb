{
  "nbformat": 4,
  "nbformat_minor": 0,
  "metadata": {
    "colab": {
      "name": "assignment-2",
      "provenance": [],
      "authorship_tag": "ABX9TyOYFxLrOOy+02a/9mjWTu+j",
      "include_colab_link": true
    },
    "kernelspec": {
      "name": "python3",
      "display_name": "Python 3"
    }
  },
  "cells": [
    {
      "cell_type": "markdown",
      "metadata": {
        "id": "view-in-github",
        "colab_type": "text"
      },
      "source": [
        "<a href=\"https://colab.research.google.com/github/srinath68/19K45A0209/blob/master/assignment_2.ipynb\" target=\"_parent\"><img src=\"https://colab.research.google.com/assets/colab-badge.svg\" alt=\"Open In Colab\"/></a>"
      ]
    },
    {
      "cell_type": "markdown",
      "metadata": {
        "id": "axFYiUKzWAnJ",
        "colab_type": "text"
      },
      "source": [
        "#1. Given the lengths of three sides of a triangle, calculate the area of the triangle."
      ]
    },
    {
      "cell_type": "code",
      "metadata": {
        "id": "gY3IggGZXfEg",
        "colab_type": "code",
        "colab": {
          "base_uri": "https://localhost:8080/",
          "height": 87
        },
        "outputId": "c78e5029-b80f-4c64-d577-18ab10448e33"
      },
      "source": [
        "a=float(input(\"Enter length of 1st side of a triangle:\"))  \n",
        "b=float(input(\"Enter length of 2nd side of a triangle:\"))  \n",
        "c=float(input(\"Enter length of 3rd side of a triangle:\"))  \n",
        "if(a+b>c):\n",
        "  s=(a+b+c)/2  \n",
        "  area=(s*(s-a)(s-b)(s-c))**(1/2)\n",
        "  print(\"The area of the triangle is= \", round(area,2))\n",
        "else:\n",
        "  print(\"The triangle is not possible\")"
      ],
      "execution_count": 6,
      "outputs": [
        {
          "output_type": "stream",
          "text": [
            "Enter length of 1st side of a triangle:10\n",
            "Enter length of 2nd side of a triangle:20\n",
            "Enter length of 3rd side of a triangle:30\n",
            "The triangle is not possible\n"
          ],
          "name": "stdout"
        }
      ]
    },
    {
      "cell_type": "markdown",
      "metadata": {
        "id": "hHt8fck3XnlT",
        "colab_type": "text"
      },
      "source": [
        "#2. Take a string from end user and check if the value is palindrome or not.\n"
      ]
    },
    {
      "cell_type": "code",
      "metadata": {
        "id": "6ChogU9VXvez",
        "colab_type": "code",
        "colab": {
          "base_uri": "https://localhost:8080/",
          "height": 52
        },
        "outputId": "ba5c0ec3-511c-4a90-bbec-849d562506eb"
      },
      "source": [
        "s=input(\"Enter a string:\")\n",
        "if(s==s[::-1]):\n",
        "    print(\"Given string {} is palindrome\".format(s))\n",
        "else:\n",
        "    print(\"Given string {} is not palindrome\".format(s))"
      ],
      "execution_count": 7,
      "outputs": [
        {
          "output_type": "stream",
          "text": [
            "Enter a string:56\n",
            "Given string 56 is not palindrome\n"
          ],
          "name": "stdout"
        }
      ]
    },
    {
      "cell_type": "markdown",
      "metadata": {
        "id": "-TUGTNoHYEXS",
        "colab_type": "text"
      },
      "source": [
        "#3. Write a program that reads a year from the user and displays a message indicating whether year is leap year or not."
      ]
    },
    {
      "cell_type": "code",
      "metadata": {
        "id": "CwRSSPKsYNUW",
        "colab_type": "code",
        "colab": {
          "base_uri": "https://localhost:8080/",
          "height": 52
        },
        "outputId": "66737bcd-13ba-432a-a776-c31f72407d59"
      },
      "source": [
        "year=int(input(\"Enter the year:\"))\n",
        "if(year%4==0 and year%100!=0 or year%400==0):\n",
        "    print(\"{} The entered year is leap year\".format(year))\n",
        "else:\n",
        "    print(\"{} The entered year is not a leap year\".format(year))\n"
      ],
      "execution_count": 8,
      "outputs": [
        {
          "output_type": "stream",
          "text": [
            "Enter the year:2020\n",
            "2020 The entered year is leap year\n"
          ],
          "name": "stdout"
        }
      ]
    },
    {
      "cell_type": "markdown",
      "metadata": {
        "id": "6o5eM6aBYcFK",
        "colab_type": "text"
      },
      "source": [
        "#4. Space to Hyphen problem\n",
        "#   Take a string as input, and replaces spaces \" \" with hyphens \"-\", and returns a string.\n",
        "#   Input: \"This program converts spaces into hyphen\"\n",
        "#   Output: \"This-program-converts-spaces-into-hyphen\"\n"
      ]
    },
    {
      "cell_type": "code",
      "metadata": {
        "id": "b1CFbbVwY3r6",
        "colab_type": "code",
        "colab": {
          "base_uri": "https://localhost:8080/",
          "height": 52
        },
        "outputId": "668aae84-8983-4279-9d34-5b3b52ad4dfc"
      },
      "source": [
        "n=input(\"Enter a string : \")\n",
        "print(n.replace(' ','-'))"
      ],
      "execution_count": 13,
      "outputs": [
        {
          "output_type": "stream",
          "text": [
            "Enter a string : \"This program converts spaces into hyphen\"\n",
            "\"This-program-converts-spaces-into-hyphen\"\n"
          ],
          "name": "stdout"
        }
      ]
    },
    {
      "cell_type": "markdown",
      "metadata": {
        "id": "Gkf0748UZE7S",
        "colab_type": "text"
      },
      "source": [
        "#5. Unique Sort Problem.\n",
        "#   Take a string as input that accepts a comma separated sequence of words as input and prints the unique words in sorted form (alphanumerically).\n",
        "#   Input: orange,white,red,cyan,green,magenta,cyan,pink,white\n",
        "#   Output: cyan,green,magenta,orange,pink,red,white\n"
      ]
    },
    {
      "cell_type": "code",
      "metadata": {
        "id": "NephCNG6dRE3",
        "colab_type": "code",
        "colab": {
          "base_uri": "https://localhost:8080/",
          "height": 52
        },
        "outputId": "353c32dc-d9e1-47cd-c7a0-7d4134a1ffc5"
      },
      "source": [
        "str=input(\"Enter a string: \")\n",
        "s=str.split()\n",
        "s.sort()\n",
        "list(s)\n",
        "set(s)\n"
      ],
      "execution_count": 30,
      "outputs": [
        {
          "output_type": "stream",
          "text": [
            "Enter a string: orange,white,red,cyan,green,magenta,cyan,pink,white\n"
          ],
          "name": "stdout"
        },
        {
          "output_type": "execute_result",
          "data": {
            "text/plain": [
              "{'orange,white,red,cyan,green,magenta,cyan,pink,white'}"
            ]
          },
          "metadata": {
            "tags": []
          },
          "execution_count": 30
        }
      ]
    },
    {
      "cell_type": "markdown",
      "metadata": {
        "id": "xB11SJR6hhYu",
        "colab_type": "text"
      },
      "source": [
        "#6. Tax Calculator\n",
        "#   Ask the user for their monthly salary. Calculate whether they have to pay tax and if so,\n",
        "#   how much is that amount .Print the result."
      ]
    },
    {
      "cell_type": "code",
      "metadata": {
        "id": "1IMVZ26chpmi",
        "colab_type": "code",
        "colab": {
          "base_uri": "https://localhost:8080/",
          "height": 52
        },
        "outputId": "a9fdd2d1-1f54-4dbe-c15d-0c9cf14bc304"
      },
      "source": [
        "salary=int(input(\"Enter the salary : \"))\n",
        "if (salary>=0) and (salary<=250000):\n",
        "    tax=(salary*0)\n",
        "elif (salary>250000) and (salary<=500000):\n",
        "    tax=(salary*0.05)\n",
        "elif (salary>500000) and (salary<=750000):\n",
        "    tax=(salary*0.1)\n",
        "elif (salary>750000) and (salary<=1000000):\n",
        "    tax=(salary*0.15)\n",
        "elif (salary>1000000) and (salary<=1250000):\n",
        "    tax=(salary*0.2)\n",
        "elif (salary>1250000) and (salary<=1500000):\n",
        "    tax=(salary*0.25)\n",
        "else:\n",
        "    tax=(salary*0.3)\n",
        "print(\"Tax is : \",tax)\n"
      ],
      "execution_count": 32,
      "outputs": [
        {
          "output_type": "stream",
          "text": [
            "Enter the salary : 25378933\n",
            "Tax is :  7613679.899999999\n"
          ],
          "name": "stdout"
        }
      ]
    },
    {
      "cell_type": "markdown",
      "metadata": {
        "id": "11eTboSuiENS",
        "colab_type": "text"
      },
      "source": [
        "#7. Take a list of integers as an argument, and converts it into a single integer (return the integer).\n",
        "#   input:[11,33,50]\n",
        "#   output:113350\n"
      ]
    },
    {
      "cell_type": "code",
      "metadata": {
        "id": "CdvrZXnHiLpT",
        "colab_type": "code",
        "colab": {
          "base_uri": "https://localhost:8080/",
          "height": 35
        },
        "outputId": "1d923570-6f7d-49fa-f1ac-6d9b34288d89"
      },
      "source": [
        "l=[11,33,50]\n",
        "for i in l:\n",
        "  print(i,end=\"\")"
      ],
      "execution_count": 33,
      "outputs": [
        {
          "output_type": "stream",
          "text": [
            "113350"
          ],
          "name": "stdout"
        }
      ]
    },
    {
      "cell_type": "markdown",
      "metadata": {
        "id": "hZSfps_ZiVQj",
        "colab_type": "text"
      },
      "source": [
        "#8. Units of Time\n",
        "#   Create a program that reads duration from the user as a number of days, hours, minutes, and seconds. \n",
        "#   Compute and display the total number of seconds represented by this duration."
      ]
    },
    {
      "cell_type": "code",
      "metadata": {
        "id": "Gd8QK5_nig8K",
        "colab_type": "code",
        "colab": {
          "base_uri": "https://localhost:8080/",
          "height": 305
        },
        "outputId": "058dd8e9-ef42-404e-ab2c-3159aaaf80fb"
      },
      "source": [
        "secondspermin=60\n",
        "secondsperhour=3600\n",
        "secondsperday=86400\n",
        "days=int(input(\"Enter the number of Days: \"))\n",
        "hours=int(input(\"Enter the number of Hours: \"))\n",
        "minutes=int(input(\"Enter the number of Minutes: \"))\n",
        "seconds=int(input(\"Enter the number of Seconds: \"))\n",
        "totalseconds=days*secperday\n",
        "totalseconds=totalsecs+(hours*secperhour)\n",
        "totalseconds=totalsecs+(minutes*secpermin)\n",
        "totalseconds=totalsecs+seconds\n",
        "print(\"Total number of seconds = \",\"%d\"%(totalseconds))\n"
      ],
      "execution_count": 42,
      "outputs": [
        {
          "output_type": "stream",
          "text": [
            "Enter the number of Days: 1\n",
            "Enter the number of Hours: 1\n",
            "Enter the number of Minutes: 1\n",
            "Enter the number of Seconds: 1\n"
          ],
          "name": "stdout"
        },
        {
          "output_type": "error",
          "ename": "NameError",
          "evalue": "ignored",
          "traceback": [
            "\u001b[0;31m---------------------------------------------------------------------------\u001b[0m",
            "\u001b[0;31mNameError\u001b[0m                                 Traceback (most recent call last)",
            "\u001b[0;32m<ipython-input-42-ec3dc71a3b3f>\u001b[0m in \u001b[0;36m<module>\u001b[0;34m()\u001b[0m\n\u001b[1;32m      6\u001b[0m \u001b[0mminutes\u001b[0m\u001b[0;34m=\u001b[0m\u001b[0mint\u001b[0m\u001b[0;34m(\u001b[0m\u001b[0minput\u001b[0m\u001b[0;34m(\u001b[0m\u001b[0;34m\"Enter the number of Minutes: \"\u001b[0m\u001b[0;34m)\u001b[0m\u001b[0;34m)\u001b[0m\u001b[0;34m\u001b[0m\u001b[0;34m\u001b[0m\u001b[0m\n\u001b[1;32m      7\u001b[0m \u001b[0mseconds\u001b[0m\u001b[0;34m=\u001b[0m\u001b[0mint\u001b[0m\u001b[0;34m(\u001b[0m\u001b[0minput\u001b[0m\u001b[0;34m(\u001b[0m\u001b[0;34m\"Enter the number of Seconds: \"\u001b[0m\u001b[0;34m)\u001b[0m\u001b[0;34m)\u001b[0m\u001b[0;34m\u001b[0m\u001b[0;34m\u001b[0m\u001b[0m\n\u001b[0;32m----> 8\u001b[0;31m \u001b[0mtotalseconds\u001b[0m\u001b[0;34m=\u001b[0m\u001b[0mdays\u001b[0m\u001b[0;34m*\u001b[0m\u001b[0msecperday\u001b[0m\u001b[0;34m\u001b[0m\u001b[0;34m\u001b[0m\u001b[0m\n\u001b[0m\u001b[1;32m      9\u001b[0m \u001b[0mtotalseconds\u001b[0m\u001b[0;34m=\u001b[0m\u001b[0mtotalsecs\u001b[0m\u001b[0;34m+\u001b[0m\u001b[0;34m(\u001b[0m\u001b[0mhours\u001b[0m\u001b[0;34m*\u001b[0m\u001b[0msecperhour\u001b[0m\u001b[0;34m)\u001b[0m\u001b[0;34m\u001b[0m\u001b[0;34m\u001b[0m\u001b[0m\n\u001b[1;32m     10\u001b[0m \u001b[0mtotalseconds\u001b[0m\u001b[0;34m=\u001b[0m\u001b[0mtotalsecs\u001b[0m\u001b[0;34m+\u001b[0m\u001b[0;34m(\u001b[0m\u001b[0mminutes\u001b[0m\u001b[0;34m*\u001b[0m\u001b[0msecpermin\u001b[0m\u001b[0;34m)\u001b[0m\u001b[0;34m\u001b[0m\u001b[0;34m\u001b[0m\u001b[0m\n",
            "\u001b[0;31mNameError\u001b[0m: name 'secperday' is not defined"
          ]
        }
      ]
    },
    {
      "cell_type": "markdown",
      "metadata": {
        "id": "BRwvF0dYkt-J",
        "colab_type": "text"
      },
      "source": [
        "#9. Sort 3 integers\n",
        "#   Given three integers (given through user input), sort the numbers using |min| and |max| functions."
      ]
    },
    {
      "cell_type": "code",
      "metadata": {
        "id": "qMbKeGjFkvM6",
        "colab_type": "code",
        "colab": {
          "base_uri": "https://localhost:8080/",
          "height": 87
        },
        "outputId": "b422f7ce-2348-4f19-cf75-4f93e2c96b37"
      },
      "source": [
        "a=int(input(\"Enter the number of a:\"))\n",
        "b=int(input(\"Enter the number of b:\"))\n",
        "c=int(input(\"Enter the number of c:\"))\n",
        "d=min(a,b,c)\n",
        "e=max(a,b,c)\n",
        "f=(a+b+c)-d-e\n",
        "print(\"The Sorted order is:\",d,f,e)"
      ],
      "execution_count": 44,
      "outputs": [
        {
          "output_type": "stream",
          "text": [
            "Enter the number of a:17\n",
            "Enter the number of b:06\n",
            "Enter the number of c:2000\n",
            "The Sorted order is: 6 17 2000\n"
          ],
          "name": "stdout"
        }
      ]
    },
    {
      "cell_type": "markdown",
      "metadata": {
        "id": "3ThhRcHRlb2V",
        "colab_type": "text"
      },
      "source": [
        "#10.  Write a program that reads a date from the user and computes its immediate successor.The date is the format YYYY-MM-DD. So, 2020-04-15\n",
        "#     will have the successor 2020-04-16."
      ]
    },
    {
      "cell_type": "code",
      "metadata": {
        "id": "gvqopJRGlc53",
        "colab_type": "code",
        "colab": {
          "base_uri": "https://localhost:8080/",
          "height": 87
        },
        "outputId": "8eca5627-e705-42bf-e146-4b1533bf93ab"
      },
      "source": [
        "year=int(input(\"Enter a year : \"))\n",
        "if year%400== 0:\n",
        "    leapyear=True\n",
        "elif year%100==0:\n",
        "    leapyear=False\n",
        "elif year%4==0:\n",
        "    leapyear=True\n",
        "else:\n",
        "    leapyear=False\n",
        "month=int(input(\"Enter a month between 1 to 12 : \"))\n",
        "if month in (1, 3, 5, 7, 8, 10, 12):\n",
        "    monthlength=31\n",
        "elif month==2:\n",
        "    if leapyear:\n",
        "        monthlength=29\n",
        "    else:\n",
        "        monthlength=28\n",
        "else:\n",
        "    monthlength=30\n",
        "day=int(input(\"Enter a day between 1 to 31 : \"))\n",
        "if day<monthlength:\n",
        "    day+=1\n",
        "else:\n",
        "    day=1\n",
        "    if month==12:\n",
        "        month=1\n",
        "        year+=1\n",
        "    else:\n",
        "        month+=1\n",
        "print(\"The immediate successor is YYYY-MM-DD : %d-%d-%d.\" %(year,month,day))\n"
      ],
      "execution_count": 45,
      "outputs": [
        {
          "output_type": "stream",
          "text": [
            "Enter a year : 2000\n",
            "Enter a month between 1 to 12 : 6\n",
            "Enter a day between 1 to 31 : 17\n",
            "The immediate successor is YYYY-MM-DD : 2000-6-18.\n"
          ],
          "name": "stdout"
        }
      ]
    },
    {
      "cell_type": "markdown",
      "metadata": {
        "id": "U78hmfUQl1fD",
        "colab_type": "text"
      },
      "source": [
        "#11. Compute product of a list of numbers [45,3,2,89,72,1,10,7]\n",
        "#    Output: 121111200"
      ]
    },
    {
      "cell_type": "code",
      "metadata": {
        "id": "NeGUwrwxl-Vz",
        "colab_type": "code",
        "colab": {
          "base_uri": "https://localhost:8080/",
          "height": 35
        },
        "outputId": "6481df79-f9bc-4676-cc3d-13f135765107"
      },
      "source": [
        "list=[45,3,2,89,72,1,10,7]\n",
        "n=1\n",
        "for i in range(len(list)):\n",
        "    n=n*list[i]\n",
        "print(n)\n"
      ],
      "execution_count": 46,
      "outputs": [
        {
          "output_type": "stream",
          "text": [
            "121111200\n"
          ],
          "name": "stdout"
        }
      ]
    },
    {
      "cell_type": "markdown",
      "metadata": {
        "id": "SuiEfTOMmGab",
        "colab_type": "text"
      },
      "source": [
        "#12.  Compute given Num_list=[5,6,8,34,89,1] to get desired output.\n",
        "#     Output : Out_list=[11,14,42,123,90]\n"
      ]
    },
    {
      "cell_type": "code",
      "metadata": {
        "id": "wfK6VGwjmM8S",
        "colab_type": "code",
        "colab": {
          "base_uri": "https://localhost:8080/",
          "height": 35
        },
        "outputId": "aa3a5179-5ce1-43ef-ea2d-20758e60322f"
      },
      "source": [
        "l=[5,6,8,34,89,1]\n",
        "Out_list=[]\n",
        "for i in range(len(l)-1):\n",
        "    ol=l[i]+l[i+1]\n",
        "    Out_list.append(ol)\n",
        "print(\"Out_list=\",Out_list)\n"
      ],
      "execution_count": 47,
      "outputs": [
        {
          "output_type": "stream",
          "text": [
            "Out_list= [11, 14, 42, 123, 90]\n"
          ],
          "name": "stdout"
        }
      ]
    },
    {
      "cell_type": "markdown",
      "metadata": {
        "id": "Xxz07fDEmUFA",
        "colab_type": "text"
      },
      "source": [
        "#13.  Compute given Num_tuple=(5,6,8,3,9,1) to get desired output.\n",
        "#     Output : Out_list=[5,30,240,720,6480,6480]  "
      ]
    },
    {
      "cell_type": "code",
      "metadata": {
        "id": "vH99jJNJmsA8",
        "colab_type": "code",
        "colab": {}
      },
      "source": [
        ""
      ],
      "execution_count": null,
      "outputs": []
    },
    {
      "cell_type": "code",
      "metadata": {
        "id": "U8-fx0DfmsES",
        "colab_type": "code",
        "colab": {
          "base_uri": "https://localhost:8080/",
          "height": 235
        },
        "outputId": "f9129b45-1d53-40fa-8467-c2d9575738f2"
      },
      "source": [
        "n=(5,6,8,3,9,1)\n",
        "Out_list=[]\n",
        "Out_list.append(n[0])\n",
        "for i in range(len(n)-1):\n",
        "    m=Out_list[i]*t[i+1]\n",
        "    Out_list.append(m)\n",
        "print(\"Out_list=\",Out_list)"
      ],
      "execution_count": 49,
      "outputs": [
        {
          "output_type": "error",
          "ename": "NameError",
          "evalue": "ignored",
          "traceback": [
            "\u001b[0;31m---------------------------------------------------------------------------\u001b[0m",
            "\u001b[0;31mNameError\u001b[0m                                 Traceback (most recent call last)",
            "\u001b[0;32m<ipython-input-49-2dd39b205719>\u001b[0m in \u001b[0;36m<module>\u001b[0;34m()\u001b[0m\n\u001b[1;32m      3\u001b[0m \u001b[0mOut_list\u001b[0m\u001b[0;34m.\u001b[0m\u001b[0mappend\u001b[0m\u001b[0;34m(\u001b[0m\u001b[0mn\u001b[0m\u001b[0;34m[\u001b[0m\u001b[0;36m0\u001b[0m\u001b[0;34m]\u001b[0m\u001b[0;34m)\u001b[0m\u001b[0;34m\u001b[0m\u001b[0;34m\u001b[0m\u001b[0m\n\u001b[1;32m      4\u001b[0m \u001b[0;32mfor\u001b[0m \u001b[0mi\u001b[0m \u001b[0;32min\u001b[0m \u001b[0mrange\u001b[0m\u001b[0;34m(\u001b[0m\u001b[0mlen\u001b[0m\u001b[0;34m(\u001b[0m\u001b[0mn\u001b[0m\u001b[0;34m)\u001b[0m\u001b[0;34m-\u001b[0m\u001b[0;36m1\u001b[0m\u001b[0;34m)\u001b[0m\u001b[0;34m:\u001b[0m\u001b[0;34m\u001b[0m\u001b[0;34m\u001b[0m\u001b[0m\n\u001b[0;32m----> 5\u001b[0;31m     \u001b[0mm\u001b[0m\u001b[0;34m=\u001b[0m\u001b[0mOut_list\u001b[0m\u001b[0;34m[\u001b[0m\u001b[0mi\u001b[0m\u001b[0;34m]\u001b[0m\u001b[0;34m*\u001b[0m\u001b[0mt\u001b[0m\u001b[0;34m[\u001b[0m\u001b[0mi\u001b[0m\u001b[0;34m+\u001b[0m\u001b[0;36m1\u001b[0m\u001b[0;34m]\u001b[0m\u001b[0;34m\u001b[0m\u001b[0;34m\u001b[0m\u001b[0m\n\u001b[0m\u001b[1;32m      6\u001b[0m     \u001b[0mOut_list\u001b[0m\u001b[0;34m.\u001b[0m\u001b[0mappend\u001b[0m\u001b[0;34m(\u001b[0m\u001b[0mm\u001b[0m\u001b[0;34m)\u001b[0m\u001b[0;34m\u001b[0m\u001b[0;34m\u001b[0m\u001b[0m\n\u001b[1;32m      7\u001b[0m \u001b[0mprint\u001b[0m\u001b[0;34m(\u001b[0m\u001b[0;34m\"Out_list=\"\u001b[0m\u001b[0;34m,\u001b[0m\u001b[0mOut_list\u001b[0m\u001b[0;34m)\u001b[0m\u001b[0;34m\u001b[0m\u001b[0;34m\u001b[0m\u001b[0m\n",
            "\u001b[0;31mNameError\u001b[0m: name 't' is not defined"
          ]
        }
      ]
    },
    {
      "cell_type": "markdown",
      "metadata": {
        "id": "RYnx73VInAv4",
        "colab_type": "text"
      },
      "source": [
        "#14.  Write a Python code that takes a number and returns a list of its digits. So for 586392 it should return [5,8,6,3,9,2].\n"
      ]
    },
    {
      "cell_type": "code",
      "metadata": {
        "id": "DeYnLNwYnK8x",
        "colab_type": "code",
        "colab": {
          "base_uri": "https://localhost:8080/",
          "height": 52
        },
        "outputId": "2c994c59-2764-4df6-a626-5e4738414095"
      },
      "source": [
        "number=input(\"Enter a number: \")\n",
        "list=[]\n",
        "for n in range(len(number)):\n",
        "    list.append(number[n])\n",
        "print(list)"
      ],
      "execution_count": 51,
      "outputs": [
        {
          "output_type": "stream",
          "text": [
            "Enter a number: 586392\n",
            "['5', '8', '6', '3', '9', '2']\n"
          ],
          "name": "stdout"
        }
      ]
    },
    {
      "cell_type": "markdown",
      "metadata": {
        "id": "3qd5AueEngYb",
        "colab_type": "text"
      },
      "source": [
        "#15. Write a program that finds the longest palindromic substring of a given string."
      ]
    },
    {
      "cell_type": "code",
      "metadata": {
        "id": "_tEMd3donnv2",
        "colab_type": "code",
        "colab": {
          "base_uri": "https://localhost:8080/",
          "height": 52
        },
        "outputId": "2fbaa5b4-82ad-4512-c328-2ed706a21ee4"
      },
      "source": [
        "def longestpalindrome(n):\n",
        "    d=[[False for i in range(len(n))] for i in range(len(n))]\n",
        "    for i in range(len(n)):\n",
        "        d[i][i]=True\n",
        "    maxlen=1\n",
        "    start=0\n",
        "    for j in range(2,len(n)+1):\n",
        "        for i in range(len(n)-j+1):\n",
        "            end=i+j\n",
        "            if j==2:\n",
        "                if n[i]==n[end-1]:\n",
        "                    d[i][end-1]=True\n",
        "                    maxlen=j\n",
        "                    start=i\n",
        "            else:\n",
        "                if n[i]==n[end-1] and d[i+1][end-2]:\n",
        "                    d[i][end-1]=True\n",
        "                    maxlen=j\n",
        "                    start=i\n",
        "    return n[start:start+maxlen]\n",
        "n=input(\"Enter a string : \")\n",
        "print(longestpalindrome(n))\n"
      ],
      "execution_count": 52,
      "outputs": [
        {
          "output_type": "stream",
          "text": [
            "Enter a string : hello am babblu\n",
            "bab\n"
          ],
          "name": "stdout"
        }
      ]
    },
    {
      "cell_type": "markdown",
      "metadata": {
        "id": "XmePiIUJoAM7",
        "colab_type": "text"
      },
      "source": [
        "#16.  Substring Check (Bug Funny)\n",
        "#     Given two binary strings, A (of length 10) and B (of length 5), output 1 if B is a substring of A and 0 otherwise.\n",
        "#     First two lines of input:\n",
        "#     1010110010          10110\n",
        "#     1110111011           10011\n",
        "#     First two lines of output:\n",
        "#     1\n",
        "#     0"
      ]
    },
    {
      "cell_type": "code",
      "metadata": {
        "id": "Z4EimcOxoBVh",
        "colab_type": "code",
        "colab": {
          "base_uri": "https://localhost:8080/",
          "height": 270
        },
        "outputId": "a59dbb98-bd59-4123-d886-6f529c86f878"
      },
      "source": [
        "t=int(input())\n",
        "for i in range(t):\n",
        "  A,B=input(\"Enter A string and B string : \").split()\n",
        "  if B in A:\n",
        "    print(\"1\")\n",
        "  else:\n",
        "    print(\"0\")\n"
      ],
      "execution_count": 57,
      "outputs": [
        {
          "output_type": "stream",
          "text": [
            "101011001010110\n",
            "Enter A string and B string : 111011101110011\n"
          ],
          "name": "stdout"
        },
        {
          "output_type": "error",
          "ename": "ValueError",
          "evalue": "ignored",
          "traceback": [
            "\u001b[0;31m---------------------------------------------------------------------------\u001b[0m",
            "\u001b[0;31mValueError\u001b[0m                                Traceback (most recent call last)",
            "\u001b[0;32m<ipython-input-57-dc03075826ab>\u001b[0m in \u001b[0;36m<module>\u001b[0;34m()\u001b[0m\n\u001b[1;32m      1\u001b[0m \u001b[0mt\u001b[0m\u001b[0;34m=\u001b[0m\u001b[0mint\u001b[0m\u001b[0;34m(\u001b[0m\u001b[0minput\u001b[0m\u001b[0;34m(\u001b[0m\u001b[0;34m)\u001b[0m\u001b[0;34m)\u001b[0m\u001b[0;34m\u001b[0m\u001b[0;34m\u001b[0m\u001b[0m\n\u001b[1;32m      2\u001b[0m \u001b[0;32mfor\u001b[0m \u001b[0mi\u001b[0m \u001b[0;32min\u001b[0m \u001b[0mrange\u001b[0m\u001b[0;34m(\u001b[0m\u001b[0mt\u001b[0m\u001b[0;34m)\u001b[0m\u001b[0;34m:\u001b[0m\u001b[0;34m\u001b[0m\u001b[0;34m\u001b[0m\u001b[0m\n\u001b[0;32m----> 3\u001b[0;31m   \u001b[0mA\u001b[0m\u001b[0;34m,\u001b[0m\u001b[0mB\u001b[0m\u001b[0;34m=\u001b[0m\u001b[0minput\u001b[0m\u001b[0;34m(\u001b[0m\u001b[0;34m\"Enter A string and B string : \"\u001b[0m\u001b[0;34m)\u001b[0m\u001b[0;34m.\u001b[0m\u001b[0msplit\u001b[0m\u001b[0;34m(\u001b[0m\u001b[0;34m)\u001b[0m\u001b[0;34m\u001b[0m\u001b[0;34m\u001b[0m\u001b[0m\n\u001b[0m\u001b[1;32m      4\u001b[0m   \u001b[0;32mif\u001b[0m \u001b[0mB\u001b[0m \u001b[0;32min\u001b[0m \u001b[0mA\u001b[0m\u001b[0;34m:\u001b[0m\u001b[0;34m\u001b[0m\u001b[0;34m\u001b[0m\u001b[0m\n\u001b[1;32m      5\u001b[0m     \u001b[0mprint\u001b[0m\u001b[0;34m(\u001b[0m\u001b[0;34m\"1\"\u001b[0m\u001b[0;34m)\u001b[0m\u001b[0;34m\u001b[0m\u001b[0;34m\u001b[0m\u001b[0m\n",
            "\u001b[0;31mValueError\u001b[0m: not enough values to unpack (expected 2, got 1)"
          ]
        }
      ]
    },
    {
      "cell_type": "markdown",
      "metadata": {
        "id": "_dGdHA2Co3oV",
        "colab_type": "text"
      },
      "source": [
        "#17 pouring water\n",
        "given two vessel,one of which can accommodate a liters of water and the other -b liters of water ,determine the number of steps required to obtain exactly c liters of water in one of the vessels"
      ]
    },
    {
      "cell_type": "code",
      "metadata": {
        "id": "KUrfHidhp02u",
        "colab_type": "code",
        "colab": {
          "base_uri": "https://localhost:8080/",
          "height": 1000
        },
        "outputId": "801a2dfc-16ac-42e8-e4b6-ce4aa8dd84a6"
      },
      "source": [
        "def gcd(a,b):\n",
        "    if b==0: \n",
        "        return a \n",
        "    return gcd(b,a%b) \n",
        "def countsteps(a,b,c): \n",
        "    v1=b\n",
        "    v2=0\n",
        "    count=1\n",
        "    while ((v1 is not c) and (v2 is not c)): \n",
        "        temp=min(v1,a-v2) \n",
        "        v2=v2+temp \n",
        "        v1=v1-temp \n",
        "        count=count+1\n",
        "        if ((v2==c)or(v1==c)): \n",
        "            break\n",
        "        if v1==0: \n",
        "            v1=b \n",
        "            count=count+1\n",
        "        if v2==a: \n",
        "            v2=0\n",
        "            count=count+1\n",
        "    return count \n",
        "def ispossible(a,b,c): \n",
        "    if a>b: \n",
        "        temp=a \n",
        "        a=b \n",
        "        b=temp \n",
        "    if c>b: \n",
        "        return -1\n",
        "    if (c%(gcd(b,a)) is not 0): \n",
        "        return -1\n",
        "    return(min(countsteps(b,a,c),countsteps(a,b,c)))\n",
        "t=int(input(\"Enter no of testcases : \"))\n",
        "for i in range(t):\n",
        "  a=int(input(\"Enter capacity of vessel a : \"))\n",
        "  b=int(input(\"Enter capacity of vessel b : \"))\n",
        "  c=int(input(\"Enter capacity to be obtained :\"))\n",
        "  print(\"Minimum number of steps required is : \",ispossible(a,b,c))"
      ],
      "execution_count": null,
      "outputs": [
        {
          "output_type": "stream",
          "text": [
            "Enter no of testcases : 3767\n",
            "Enter capacity of vessel a : 76\n",
            "Enter capacity of vessel b : 76\n",
            "Enter capacity to be obtained :97\n",
            "Minimum number of steps required is :  -1\n",
            "Enter capacity of vessel a : 76\n",
            "Enter capacity of vessel b : 98\n",
            "Enter capacity to be obtained :6\n",
            "Minimum number of steps required is :  76\n",
            "Enter capacity of vessel a : 87\n",
            "Enter capacity of vessel b : 5\n",
            "Enter capacity to be obtained :65\n",
            "Minimum number of steps required is :  26\n",
            "Enter capacity of vessel a : 76\n",
            "Enter capacity of vessel b : 4\n",
            "Enter capacity to be obtained :65\n",
            "Minimum number of steps required is :  -1\n",
            "Enter capacity of vessel a : 65\n",
            "Enter capacity of vessel b : 5\n",
            "Enter capacity to be obtained :6\n",
            "Minimum number of steps required is :  -1\n",
            "Enter capacity of vessel a : 76\n",
            "Enter capacity of vessel b : 65\n",
            "Enter capacity to be obtained :76\n",
            "Minimum number of steps required is :  1\n",
            "Enter capacity of vessel a : 65\n",
            "Enter capacity of vessel b : 56\n",
            "Enter capacity to be obtained :56\n",
            "Minimum number of steps required is :  1\n",
            "Enter capacity of vessel a : 6\n",
            "Enter capacity of vessel b : 67\n",
            "Enter capacity to be obtained :978\n",
            "Minimum number of steps required is :  -1\n",
            "Enter capacity of vessel a : 78\n",
            "Enter capacity of vessel b : 87\n",
            "Enter capacity to be obtained :76\n",
            "Minimum number of steps required is :  -1\n",
            "Enter capacity of vessel a : 9867\n",
            "Enter capacity of vessel b : 876\n",
            "Enter capacity to be obtained :543\n",
            "Minimum number of steps required is :  2918\n",
            "Enter capacity of vessel a : 32\n",
            "Enter capacity of vessel b : 978\n",
            "Enter capacity to be obtained :54\n",
            "Minimum number of steps required is :  184\n",
            "Enter capacity of vessel a : 6\n",
            "Enter capacity of vessel b : 654\n",
            "Enter capacity to be obtained :756\n",
            "Minimum number of steps required is :  -1\n",
            "Enter capacity of vessel a : 987\n",
            "Enter capacity of vessel b : 45\n",
            "Enter capacity to be obtained :876\n",
            "Minimum number of steps required is :  326\n",
            "Enter capacity of vessel a : 6543\n",
            "Enter capacity of vessel b : 3244\n",
            "Enter capacity to be obtained :356\n",
            "Minimum number of steps required is :  9290\n",
            "Enter capacity of vessel a : 6976\n",
            "Enter capacity of vessel b : 9876\n",
            "Enter capacity to be obtained :09874\n",
            "Minimum number of steps required is :  -1\n",
            "Enter capacity of vessel a : 9999976\n",
            "Enter capacity of vessel b : 976765\n",
            "Enter capacity to be obtained :6780\n",
            "Minimum number of steps required is :  7610946\n"
          ],
          "name": "stdout"
        }
      ]
    }
  ]
}